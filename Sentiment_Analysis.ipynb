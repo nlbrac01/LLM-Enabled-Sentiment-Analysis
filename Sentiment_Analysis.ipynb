{
 "cells": [
  {
   "cell_type": "code",
   "execution_count": null,
   "metadata": {},
   "outputs": [],
   "source": [
    "import pandas as pd\n",
    "from langchain_community.llms import Ollama\n",
    "from sklearn.cluster import KMeans\n",
    "from sklearn.feature_extraction.text import TfidfVectorizer\n",
    "from concurrent.futures import ThreadPoolExecutor, as_completed\n",
    "from tqdm import tqdm\n",
    "\n",
    "# Load dataset\n",
    "df = pd.read_csv('Cleaned_reviews.csv')  # Update the path\n",
    "texts = df['review_body']\n",
    "\n",
    "# Initialize Ollama LLM\n",
    "ollama = Ollama(model=\"llama3\")\n",
    "\n",
    "def generate_category(text):\n",
    "    prompt = f\"These reviews are for an Amazon Kindle Fire Tablet. Read each review and identify a single, descriptive theme or topic:\\n\\n{text}\"\n",
    "    response = ollama.invoke(prompt)  # use invoke instead of predict (which is deprecated)\n",
    "    return response.content.decode().strip()\n",
    "\n",
    "# Apply LLM to generate themes for each review using parallel processing\n",
    "with ThreadPoolExecutor() as executor:\n",
    "    futures = [executor.submit(generate_category, text) for text in texts]\n",
    "    df['theme'] = list(tqdm(as_completed(futures), total=len(futures)))"
   ]
  },
  {
   "cell_type": "code",
   "execution_count": null,
   "metadata": {},
   "outputs": [],
   "source": [
    "# Use KMeans clustering to group similar themes together\n",
    "vectorizer = TfidfVectorizer(stop_words='english')\n",
    "X = vectorizer.fit_transform(df['theme'])\n",
    "kmeans = KMeans(n_clusters=10, random_state=42)  # You can adjust the number of clusters as needed\n",
    "clusters = kmeans.fit_predict(X)\n",
    "df['category'] = clusters\n",
    "\n",
    "# Display the updated dataframe\n",
    "print(df.head())"
   ]
  }
 ],
 "metadata": {
  "kernelspec": {
   "display_name": ".venv",
   "language": "python",
   "name": "python3"
  },
  "language_info": {
   "codemirror_mode": {
    "name": "ipython",
    "version": 3
   },
   "file_extension": ".py",
   "mimetype": "text/x-python",
   "name": "python",
   "nbconvert_exporter": "python",
   "pygments_lexer": "ipython3",
   "version": "3.12.3"
  }
 },
 "nbformat": 4,
 "nbformat_minor": 2
}
